{
 "cells": [
  {
   "cell_type": "markdown",
   "metadata": {},
   "source": [
    "# Libraries"
   ]
  },
  {
   "cell_type": "code",
   "execution_count": 2,
   "metadata": {},
   "outputs": [],
   "source": [
    "import pickle\n",
    "import pandas as pd\n",
    "import seaborn as sns\n",
    "from os.path import exists\n",
    "import matplotlib.pyplot as plt\n",
    "from sklearn.neighbors import KNeighborsClassifier\n",
    "from sklearn.model_selection import train_test_split\n",
    "from sklearn.metrics import accuracy_score, confusion_matrix"
   ]
  },
  {
   "cell_type": "markdown",
   "metadata": {},
   "source": [
    "# Loading the Files\n",
    "\n",
    "Download the csv files into the `data/` directory."
   ]
  },
  {
   "cell_type": "markdown",
   "metadata": {},
   "source": [
    "# Adding Features\n",
    "\n",
    "If you can't run the following code, (for example, kernel is crashed), please copy it to a separate python script because joblib doesn't work well in jupyter notebook."
   ]
  },
  {
   "cell_type": "code",
   "execution_count": null,
   "metadata": {},
   "outputs": [],
   "source": [
    "from sklearn.preprocessing import StandardScaler\n",
    "from joblib import Parallel, delayed\n",
    "from tqdm import tqdm\n",
    "import pandas as pd\n",
    "from nltk.sentiment import SentimentIntensityAnalyzer\n",
    "import nltk\n",
    "from nltk.corpus import opinion_lexicon\n",
    "from sklearn.feature_extraction.text import TfidfVectorizer\n",
    "\n",
    "\n",
    "\n",
    "trainingSet = pd.read_csv(\"./data/train.csv\")\n",
    "testingSet = pd.read_csv(\"./data/test.csv\")\n",
    "\n",
    "sid = SentimentIntensityAnalyzer()\n",
    "\n",
    "def get_compound_score(text):\n",
    "    scores = sid.polarity_scores(str(text)) \n",
    "    return scores['compound']\n",
    "\n",
    "def add_features_to(df):\n",
    "\n",
    "    df['Helpfulness'] = df['HelpfulnessNumerator'] / df['HelpfulnessDenominator']\n",
    "    df['Helpfulness'] = df['Helpfulness'].fillna(0)\n",
    "    positive_words = set(opinion_lexicon.positive())\n",
    "    negative_words = set(opinion_lexicon.negative())\n",
    "    negative_words.update(['nanjingdapaidang'])\n",
    "\n",
    "    df['Score_filled'] = df['Score'].fillna(df['Score'].mean())\n",
    "\n",
    "    df['ProductId_target_enc'] = df.groupby('ProductId')['Score_filled'].transform('mean')\n",
    "    df['ProductId_count'] = df.groupby('ProductId')['ProductId'].transform('count')\n",
    "    df['UserId_target_enc'] = df.groupby('UserId')['Score_filled'].transform('mean')\n",
    "    df['UserId_count'] = df.groupby('UserId')['UserId'].transform('count')\n",
    "    \n",
    "\n",
    "    df['Date'] = pd.to_datetime(df['Time'], unit='s')\n",
    "    df['Year'] = df['Date'].dt.year\n",
    "    df['Month'] = df['Date'].dt.month\n",
    "    df['Day'] = df['Date'].dt.day\n",
    "    df['Hour'] = df['Date'].dt.hour\n",
    "\n",
    "    def count_words(text, word_set):\n",
    "        words = text.lower().split()  \n",
    "        return sum(1 for word in words if word in word_set)\n",
    "\n",
    "    df['Summary_positive_words'] = df['Summary'].apply(lambda x: count_words(str(x), positive_words))\n",
    "    df['Summary_negative_words'] = df['Summary'].apply(lambda x: count_words(str(x), negative_words))\n",
    "    df['Summary_Count_!'] = df['Summary'].apply(lambda x: str(x).count('!'))\n",
    "    df['Summary_Count_?'] = df['Summary'].apply(lambda x: str(x).count('?'))\n",
    "    df['Text_positive_words'] = df['Text'].apply(lambda x: count_words(str(x), positive_words))\n",
    "    df['Text_negative_words'] = df['Text'].apply(lambda x: count_words(str(x), negative_words))\n",
    "    df['Text_Count_!'] = df['Text'].apply(lambda x: str(x).count('!'))\n",
    "    df['Text_Count_?'] = df['Text'].apply(lambda x: str(x).count('?'))\n",
    "\n",
    "    summaries = df['Summary'].astype(str).tolist()\n",
    "    texts = df['Text'].astype(str).tolist()\n",
    "\n",
    "    df['Summary_sentiment_score'] = Parallel(n_jobs=-1)(delayed(get_compound_score)(text) for text in tqdm(summaries, desc=\"Processing Summary\"))\n",
    "    df['Text_sentiment_score'] = Parallel(n_jobs=-1)(delayed(get_compound_score)(text) for text in tqdm(texts, desc=\"Processing Text\"))\n",
    "    df['Comment_length'] = df['Text'].apply(lambda x: len(str(x))) \n",
    "\n",
    "\n",
    "    features_to_normalize = [\n",
    "        'Helpfulness', 'HelpfulnessNumerator', 'HelpfulnessDenominator', 'Comment_length', \n",
    "        'Time', 'Summary_sentiment_score', 'Text_sentiment_score', 'Summary_positive_words',\n",
    "        'Summary_negative_words', 'Text_positive_words', 'Text_negative_words', 'ProductId_target_enc',\n",
    "        'UserId_target_enc', 'ProductId_count', 'UserId_count', 'Summary_Count_!', 'Summary_Count_?',\n",
    "        'Text_Count_!', 'Text_Count_?'\n",
    "    ]\n",
    "    \n",
    "    scaler = StandardScaler()\n",
    "    df[features_to_normalize] = scaler.fit_transform(df[features_to_normalize])\n",
    "\n",
    "    tfidf = TfidfVectorizer(max_features=1000)\n",
    "    tfidf_matrix = tfidf.fit_transform(tqdm(df['Text'].astype(str), desc=\"TF-IDF Processing\"))\n",
    "    tfidf2 = TfidfVectorizer(max_features=200)\n",
    "    tfidf_matrix2 = tfidf2.fit_transform(tqdm(df['Summary'].astype(str), desc=\"TF-IDF Processing\"))\n",
    "    tfidf_sparse_df = pd.DataFrame.sparse.from_spmatrix(tfidf_matrix, columns=[f'TFIDF_{i}' for i in range(tfidf_matrix.shape[1])])\n",
    "    tfidf_sparse_df2 = pd.DataFrame.sparse.from_spmatrix(tfidf_matrix2, columns=[f'TFIDF_{i}' for i in range(1000, 1000+tfidf_matrix2.shape[1])])\n",
    "    df = pd.concat([df, tfidf_sparse_df], axis=1)\n",
    "    df = pd.concat([df, tfidf_sparse_df2], axis=1)\n",
    "\n",
    "\n",
    "    return df\n",
    "\n",
    "# Load the feature extracted files if they've already been generated\n",
    "train = add_features_to(trainingSet)\n",
    "\n",
    "# Merge on Id so that the submission set can have feature columns as well\n",
    "X_submission = pd.merge(train, testingSet, left_on='Id', right_on='Id')\n",
    "X_submission = X_submission.drop(columns=['Score_x'])\n",
    "X_submission = X_submission.rename(columns={'Score_y': 'Score'})\n",
    "\n",
    "# The training set is where the score is not null\n",
    "X_train =  train[train['Score'].notnull()]\n",
    "\n",
    "X_submission.to_csv(\"./data/X_submission.csv\", index=False)\n",
    "X_train.to_csv(\"./data/X_train.csv\", index=False)"
   ]
  },
  {
   "cell_type": "markdown",
   "metadata": {},
   "source": [
    "# Sample + Split into training and testing set"
   ]
  },
  {
   "cell_type": "code",
   "execution_count": 3,
   "metadata": {},
   "outputs": [],
   "source": [
    "# Split training set into training and testing set\n",
    "X_submission = pd.read_csv(\"./data/X_submission.csv\")\n",
    "X_train = pd.read_csv(\"./data/X_train.csv\")\n",
    "\n",
    "# you can add some features fast here\n",
    "X_train, X_test, Y_train, Y_test = train_test_split(\n",
    "    X_train.drop(columns=['Score']),\n",
    "    X_train['Score'],\n",
    "    test_size=1/4.0,\n",
    "    random_state=32\n",
    ")"
   ]
  },
  {
   "cell_type": "markdown",
   "metadata": {},
   "source": [
    "# Feature Selection"
   ]
  },
  {
   "cell_type": "code",
   "execution_count": 4,
   "metadata": {},
   "outputs": [],
   "source": [
    "features = ['HelpfulnessNumerator', 'HelpfulnessDenominator', 'Helpfulness', 'Comment_length', \n",
    "'Summary_sentiment_score', 'Text_sentiment_score', 'Summary_positive_words', 'Summary_negative_words',\n",
    "'Text_positive_words', 'Text_negative_words', 'ProductId_target_enc', 'UserId_target_enc','Time', \n",
    "'Year', 'Month', 'Day', 'Hour', 'ProductId_count', 'UserId_count', 'Summary_Count_!', 'Summary_Count_?',\n",
    "'Text_Count_!', 'Text_Count_?']\n",
    "features.extend([f'TFIDF_{i}' for i in range(1200)])\n",
    "\n",
    "X_train_select = X_train[features]\n",
    "X_test_select = X_test[features]\n",
    "X_submission_select = X_submission[features]"
   ]
  },
  {
   "cell_type": "markdown",
   "metadata": {},
   "source": [
    "# Model Creation"
   ]
  },
  {
   "cell_type": "code",
   "execution_count": 11,
   "metadata": {},
   "outputs": [
    {
     "name": "stdout",
     "output_type": "stream",
     "text": [
      "[LightGBM] [Info] Auto-choosing row-wise multi-threading, the overhead of testing was 0.743795 seconds.\n",
      "You can set `force_row_wise=true` to remove the overhead.\n",
      "And if memory is not enough, you can set `force_col_wise=true`.\n",
      "[LightGBM] [Info] Total Bins 307047\n",
      "[LightGBM] [Info] Number of data points in the train set: 1114005, number of used features: 1222\n",
      "[LightGBM] [Info] Start training from score -2.790022\n",
      "[LightGBM] [Info] Start training from score -2.808818\n",
      "[LightGBM] [Info] Start training from score -2.135183\n",
      "[LightGBM] [Info] Start training from score -1.487205\n",
      "[LightGBM] [Info] Start training from score -0.627214\n",
      "Training until validation scores don't improve for 50 rounds\n",
      "[LightGBM] [Warning] No further splits with positive gain, best gain: -inf\n",
      "Did not meet early stopping. Best iteration is:\n",
      "[500]\tvalid_0's multi_logloss: 0.679598\n",
      "Train accuracy:  0.7838366973218253\n",
      "Accuracy on testing set =  0.7101385268328414\n"
     ]
    }
   ],
   "source": [
    "from lightgbm import LGBMClassifier\n",
    "\n",
    "# LightGBM\n",
    "lgb_model = LGBMClassifier(n_estimators=500, max_depth=12, num_leaves=100, n_jobs=-1, learning_rate=0.1,\n",
    "                            reg_lambda=10, reg_alpha=10, subsample=0.8, colsample_bytree=0.9, \n",
    "                            early_stopping_round=50, objective='multiclass', num_class=5, metric='multi_logloss')\n",
    "\n",
    "lgb_model.fit(X_train_select, Y_train, eval_set=[(X_test_select, Y_test)], eval_metric='multi_logloss')\n",
    "Y_train_predictions = lgb_model.predict(X_train_select)\n",
    "train_accuracy = accuracy_score(Y_train, Y_train_predictions)\n",
    "print(\"Train accuracy: \", train_accuracy)\n",
    "Y_test_predictions = lgb_model.predict(X_test_select)\n",
    "print(\"Accuracy on testing set = \", accuracy_score(Y_test, Y_test_predictions))"
   ]
  },
  {
   "cell_type": "markdown",
   "metadata": {},
   "source": [
    "# Model Evaluation"
   ]
  },
  {
   "cell_type": "code",
   "execution_count": 12,
   "metadata": {},
   "outputs": [
    {
     "name": "stdout",
     "output_type": "stream",
     "text": [
      "Accuracy on testing set =  0.7101385268328414\n"
     ]
    },
    {
     "data": {
      "image/png": "[encoded data removed]",
      "text/plain": [
       "<Figure size 640x480 with 2 Axes>"
      ]
     },
     "metadata": {},
     "output_type": "display_data"
    }
   ],
   "source": [
    "# Evaluate your model on the testing set\n",
    "print(\"Accuracy on testing set = \", accuracy_score(Y_test, Y_test_predictions))\n",
    "\n",
    "# Plot a confusion matrix\n",
    "cm = confusion_matrix(Y_test, Y_test_predictions, normalize='true')\n",
    "sns.heatmap(cm, annot=True)\n",
    "plt.title('Confusion matrix of the classifier')\n",
    "plt.xlabel('Predicted')\n",
    "plt.ylabel('True')\n",
    "plt.show()"
   ]
  },
  {
   "cell_type": "markdown",
   "metadata": {},
   "source": [
    "# Create submission file"
   ]
  },
  {
   "cell_type": "code",
   "execution_count": 13,
   "metadata": {},
   "outputs": [],
   "source": [
    "# Create the submission file\n",
    "X_submission['Score'] = lgb_model.predict(X_submission_select)\n",
    "submission = X_submission[['Id', 'Score']]\n",
    "submission.to_csv(\"./data/submission.csv\", index=False)"
   ]
  }
 ],
 "metadata": {
  "kernelspec": {
   "display_name": "cs224n",
   "language": "python",
   "name": "python3"
  },
  "language_info": {
   "codemirror_mode": {
    "name": "ipython",
    "version": 3
   },
   "file_extension": ".py",
   "mimetype": "text/x-python",
   "name": "python",
   "nbconvert_exporter": "python",
   "pygments_lexer": "ipython3",
   "version": "3.11.8"
  }
 },
 "nbformat": 4,
 "nbformat_minor": 2
}
